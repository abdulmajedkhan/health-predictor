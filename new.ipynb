{
 "cells": [
  {
   "cell_type": "code",
   "execution_count": 1,
   "id": "bc1191f9-7b8d-44d5-ba19-7f3953d00f63",
   "metadata": {
    "editable": true,
    "slideshow": {
     "slide_type": ""
    },
    "tags": []
   },
   "outputs": [],
   "source": [
    "import pandas as pd\n",
    "import numpy as np\n",
    "import seaborn as sns\n",
    "import matplotlib.pyplot as plt\n",
    "from sklearn.model_selection import train_test_split\n",
    "from sklearn.preprocessing import LabelEncoder\n",
    "from sklearn.ensemble import RandomForestClassifier\n",
    "from sklearn.linear_model import LogisticRegression\n",
    "from sklearn.svm import SVC\n",
    "from sklearn.metrics import accuracy_score, classification_report, confusion_matrix\n",
    "from sklearn.impute import SimpleImputer\n",
    "import joblib\n"
   ]
  },
  {
   "cell_type": "code",
   "execution_count": 2,
   "id": "f406789d-6007-437d-aed1-18a3f58e89ea",
   "metadata": {},
   "outputs": [],
   "source": [
    "# Load dataset\n",
    "df = pd.read_csv(r\"C:\\Users\\Khan\\Downloads\\early+stage+diabetes+risk+prediction+dataset\\diabetes_data_upload.csv\")"
   ]
  },
  {
   "cell_type": "code",
   "execution_count": 3,
   "id": "e1af92e7-f8a9-41a6-82bb-b2684c1bfb0c",
   "metadata": {},
   "outputs": [
    {
     "name": "stdout",
     "output_type": "stream",
     "text": [
      "['Age', 'Gender', 'Polyuria', 'Polydipsia', 'sudden weight loss', 'weakness', 'Polyphagia', 'Genital thrush', 'visual blurring', 'Itching', 'Irritability', 'delayed healing', 'partial paresis', 'muscle stiffness', 'Alopecia', 'Obesity', 'class']\n"
     ]
    }
   ],
   "source": [
    " #\n",
    "# Clean columns\n",
    "df.columns = df.columns.str.strip()  # Remove spaces\n",
    "print(df.columns.tolist())  # Debug column names\n"
   ]
  },
  {
   "cell_type": "code",
   "execution_count": 4,
   "id": "ecd3b318-f72f-4dcd-be19-4fdc6b2a9404",
   "metadata": {},
   "outputs": [],
   "source": [
    "\n",
    "# Fill missing 'Gender' if any\n",
    "df['Gender'] = df['Gender'].fillna(df['Gender'].mode()[0])"
   ]
  },
  {
   "cell_type": "code",
   "execution_count": 5,
   "id": "4ecb232d-c3d4-4b5b-aafa-92de311d34c9",
   "metadata": {},
   "outputs": [],
   "source": [
    "# Encode target first (before splitting)\n",
    "df['class'] = df['class'].map({'Positive': 1, 'Negative': 0})\n",
    "\n"
   ]
  },
  {
   "cell_type": "code",
   "execution_count": 6,
   "id": "983fc41a-175a-4a2f-9d26-a26a0a8f7555",
   "metadata": {},
   "outputs": [],
   "source": [
    "# Encode categorical features\n",
    "le = LabelEncoder()\n",
    "\n",
    "df['Gender'] = le.fit_transform(df['Gender'])  # Male=1, Female=0 (confirm if correct)\n",
    "\n",
    "binary_columns = ['Polyuria', 'Polydipsia', 'weakness', 'Polyphagia',\n",
    "                  'Itching', 'Irritability', 'Alopecia', 'Obesity']\n",
    "\n",
    "for col in binary_columns:\n",
    "    df[col] = df[col].map({'Yes': 1, 'No': 0})\n",
    "\n",
    "other_cat_columns = ['sudden weight loss', 'Genital thrush', 'visual blurring',\n",
    "                     'delayed healing', 'partial paresis', 'muscle stiffness']\n",
    "\n",
    "for col in other_cat_columns:\n",
    "    df[col] = df[col].map({'Yes': 1, 'No': 0})"
   ]
  },
  {
   "cell_type": "code",
   "execution_count": 7,
   "id": "b04efc07-828a-49b7-b3ce-cff23c871bfb",
   "metadata": {},
   "outputs": [
    {
     "name": "stdout",
     "output_type": "stream",
     "text": [
      "Age                   int64\n",
      "Gender                int64\n",
      "Polyuria              int64\n",
      "Polydipsia            int64\n",
      "sudden weight loss    int64\n",
      "weakness              int64\n",
      "Polyphagia            int64\n",
      "Genital thrush        int64\n",
      "visual blurring       int64\n",
      "Itching               int64\n",
      "Irritability          int64\n",
      "delayed healing       int64\n",
      "partial paresis       int64\n",
      "muscle stiffness      int64\n",
      "Alopecia              int64\n",
      "Obesity               int64\n",
      "class                 int64\n",
      "dtype: object\n"
     ]
    }
   ],
   "source": [
    "# Ensure all columns are numeric\n",
    "print(df.dtypes)"
   ]
  },
  {
   "cell_type": "code",
   "execution_count": 8,
   "id": "be504f0b-a63f-4472-bae9-aca4af802317",
   "metadata": {},
   "outputs": [],
   "source": [
    "# Separate features and target\n",
    "X = df.drop(columns=['class'])\n",
    "y = df['class']"
   ]
  },
  {
   "cell_type": "code",
   "execution_count": 9,
   "id": "c081c021-08b2-4dc3-971b-38efa74c1824",
   "metadata": {},
   "outputs": [],
   "source": [
    "# Split into training and testing sets\n",
    "X_train, X_test, y_train, y_test = train_test_split(X, y, test_size=0.2, random_state=42)\n"
   ]
  },
  {
   "cell_type": "code",
   "execution_count": 10,
   "id": "955a177e-cedc-4955-a781-6109c5cf674e",
   "metadata": {},
   "outputs": [],
   "source": [
    "# Handle any missing data (if necessary)\n",
    "imputer = SimpleImputer(strategy='most_frequent')\n",
    "X_train = pd.DataFrame(imputer.fit_transform(X_train), columns=X.columns)\n",
    "X_test = pd.DataFrame(imputer.transform(X_test), columns=X.columns)\n"
   ]
  },
  {
   "cell_type": "code",
   "execution_count": 11,
   "id": "89f5afb4-bc53-4eca-9220-6b3cbe06efea",
   "metadata": {},
   "outputs": [
    {
     "name": "stdout",
     "output_type": "stream",
     "text": [
      "Logistic Regression Accuracy: 0.92\n",
      "              precision    recall  f1-score   support\n",
      "\n",
      "           0       0.90      0.85      0.88        33\n",
      "           1       0.93      0.96      0.94        71\n",
      "\n",
      "    accuracy                           0.92       104\n",
      "   macro avg       0.92      0.90      0.91       104\n",
      "weighted avg       0.92      0.92      0.92       104\n",
      "\n",
      "Random Forest Accuracy: 0.99\n",
      "              precision    recall  f1-score   support\n",
      "\n",
      "           0       0.97      1.00      0.99        33\n",
      "           1       1.00      0.99      0.99        71\n",
      "\n",
      "    accuracy                           0.99       104\n",
      "   macro avg       0.99      0.99      0.99       104\n",
      "weighted avg       0.99      0.99      0.99       104\n",
      "\n",
      "SVM Accuracy: 0.89\n",
      "              precision    recall  f1-score   support\n",
      "\n",
      "           0       0.82      0.85      0.84        33\n",
      "           1       0.93      0.92      0.92        71\n",
      "\n",
      "    accuracy                           0.89       104\n",
      "   macro avg       0.88      0.88      0.88       104\n",
      "weighted avg       0.90      0.89      0.89       104\n",
      "\n"
     ]
    }
   ],
   "source": [
    "# Train multiple models\n",
    "models = {\n",
    "    \"Logistic Regression\": LogisticRegression(max_iter=1000),\n",
    "    \"Random Forest\": RandomForestClassifier(n_estimators=100, random_state=42),\n",
    "    \"SVM\": SVC(kernel='linear', probability=True)\n",
    "}\n",
    "\n",
    "best_model = None\n",
    "best_accuracy = 0\n",
    "\n",
    "for name, model in models.items():\n",
    "    model.fit(X_train, y_train)\n",
    "    y_pred = model.predict(X_test)\n",
    "    acc = accuracy_score(y_test, y_pred)\n",
    "    print(f\"{name} Accuracy: {acc:.2f}\")\n",
    "    print(classification_report(y_test, y_pred))\n",
    "\n",
    "    if acc > best_accuracy:\n",
    "        best_accuracy = acc\n",
    "        best_model = model"
   ]
  },
  {
   "cell_type": "code",
   "execution_count": 12,
   "id": "0bb6a483-d586-42f5-bec7-53f7b6f9c076",
   "metadata": {},
   "outputs": [
    {
     "data": {
      "image/png": "[encoded data removed]",
      "text/plain": [
       "<Figure size 800x600 with 1 Axes>"
      ]
     },
     "metadata": {},
     "output_type": "display_data"
    }
   ],
   "source": [
    "#Accuracy comparison chart\n",
    "import matplotlib.pyplot as plt\n",
    "\n",
    "# Example Accuracy Comparison Bar Chart\n",
    "models = ['Logistic Regression', 'Random Forest', 'SVM']\n",
    "accuracies = [0.78, 0.88, 0.83]  # Use your actual values here\n",
    "\n",
    "plt.figure(figsize=(8, 6))\n",
    "plt.bar(models, accuracies, color=['skyblue', 'orange', 'green'])\n",
    "plt.title('Model Accuracy Comparison')\n",
    "plt.xlabel('Models')\n",
    "plt.ylabel('Accuracy')\n",
    "plt.ylim(0, 1)\n",
    "\n",
    "# Save the figure as a PNG file\n",
    "plt.savefig('model_accuracy_comparison.png', dpi=300)  # dpi=300 for high quality\n",
    "\n",
    "plt.show()\n"
   ]
  },
  {
   "cell_type": "code",
   "execution_count": 13,
   "id": "fd9e733a-abbd-4d6e-b98a-0022931e36cb",
   "metadata": {},
   "outputs": [
    {
     "name": "stdout",
     "output_type": "stream",
     "text": [
      "Index(['Age', 'Gender', 'Polyuria', 'Polydipsia', 'sudden weight loss',\n",
      "       'weakness', 'Polyphagia', 'Genital thrush', 'visual blurring',\n",
      "       'Itching', 'Irritability', 'delayed healing', 'partial paresis',\n",
      "       'muscle stiffness', 'Alopecia', 'Obesity', 'class'],\n",
      "      dtype='object')\n"
     ]
    }
   ],
   "source": [
    "print(df.columns)\n"
   ]
  },
  {
   "cell_type": "code",
   "execution_count": 14,
   "id": "faacc32b-0133-42ed-bfd8-d8de8a913c43",
   "metadata": {},
   "outputs": [
    {
     "name": "stdout",
     "output_type": "stream",
     "text": [
      "Best model saved successfully.\n"
     ]
    }
   ],
   "source": [
    "# Save the best model\n",
    "joblib.dump(best_model, \"best_diabetes_model.pkl\")\n",
    "print(\"Best model saved successfully.\")"
   ]
  },
  {
   "cell_type": "code",
   "execution_count": 15,
   "id": "132fbc0d-6d54-4a6c-8638-ee8eb692b2c8",
   "metadata": {},
   "outputs": [
    {
     "name": "stdout",
     "output_type": "stream",
     "text": [
      "Prediction: Diabetic\n"
     ]
    }
   ],
   "source": [
    "import pandas as pd\n",
    "import numpy as np\n",
    "import joblib\n",
    "\n",
    "def predict_diabetes(input_data):\n",
    "    model = joblib.load(\"best_diabetes_model.pkl\")\n",
    "\n",
    "    # Ensure input is a DataFrame with correct feature names\n",
    "    if not isinstance(input_data, pd.DataFrame):\n",
    "        feature_names = ['Age', 'Gender', 'Polyuria', 'Polydipsia', 'sudden weight loss',\n",
    "                         'weakness', 'Polyphagia', 'Genital thrush', 'visual blurring',\n",
    "                         'Itching', 'Irritability', 'delayed healing', 'partial paresis',\n",
    "                         'muscle stiffness', 'Alopecia', 'Obesity']\n",
    "        input_data = pd.DataFrame([input_data], columns=feature_names)  # Create DataFrame only if needed\n",
    "\n",
    "    # Make prediction\n",
    "    prediction = model.predict(input_data)\n",
    "\n",
    "    return \"Diabetic\" if prediction[0] == 1 else \"Non-Diabetic\"\n",
    "\n",
    "# Example Test Case\n",
    "sample_input = [50, 1, 1, 1, 0, 1, 0, 1, 1, 1, 0, 0, 1, 0, 1, 0]  # Ensure 16 features\n",
    "print(\"Prediction:\", predict_diabetes(sample_input))\n",
    "\n"
   ]
  },
  {
   "cell_type": "code",
   "execution_count": 16,
   "id": "9fd84955-11fc-4686-8e28-70a36721d079",
   "metadata": {},
   "outputs": [
    {
     "name": "stdout",
     "output_type": "stream",
     "text": [
      "Index(['Age', 'Gender', 'Polyuria', 'Polydipsia', 'sudden weight loss',\n",
      "       'weakness', 'Polyphagia', 'Genital thrush', 'visual blurring',\n",
      "       'Itching', 'Irritability', 'delayed healing', 'partial paresis',\n",
      "       'muscle stiffness', 'Alopecia', 'Obesity'],\n",
      "      dtype='object')\n"
     ]
    }
   ],
   "source": [
    "print(X_train.columns)\n"
   ]
  },
  {
   "cell_type": "code",
   "execution_count": 17,
   "id": "6c90adb3-fb51-4b60-a677-8675fe121f7d",
   "metadata": {},
   "outputs": [
    {
     "name": "stdout",
     "output_type": "stream",
     "text": [
      "Prediction: Diabetic\n"
     ]
    }
   ],
   "source": [
    "import pandas as pd\n",
    "\n",
    "# Define feature names (excluding the 'class' column)\n",
    "feature_names = ['Age', 'Gender', 'Polyuria', 'Polydipsia', 'sudden weight loss',\n",
    "                 'weakness', 'Polyphagia', 'Genital thrush', 'visual blurring',\n",
    "                 'Itching', 'Irritability', 'delayed healing', 'partial paresis',\n",
    "                 'muscle stiffness', 'Alopecia', 'Obesity']\n",
    "\n",
    "# Create a DataFrame with the correct column names\n",
    "sample_df = pd.DataFrame([sample_input], columns=feature_names)\n",
    "\n",
    "# Make the prediction\n",
    "print(\"Prediction:\", predict_diabetes(sample_df))\n"
   ]
  },
  {
   "cell_type": "code",
   "execution_count": null,
   "id": "ed75c26c-3083-4952-8c96-17fb9a2b70ab",
   "metadata": {},
   "outputs": [],
   "source": []
  },
  {
   "cell_type": "code",
   "execution_count": null,
   "id": "e54a74cd-c432-4caf-95b8-5af6b404ceaa",
   "metadata": {},
   "outputs": [],
   "source": []
  }
 ],
 "metadata": {
  "kernelspec": {
   "display_name": "Python 3 (ipykernel)",
   "language": "python",
   "name": "python3"
  },
  "language_info": {
   "codemirror_mode": {
    "name": "ipython",
    "version": 3
   },
   "file_extension": ".py",
   "mimetype": "text/x-python",
   "name": "python",
   "nbconvert_exporter": "python",
   "pygments_lexer": "ipython3",
   "version": "3.13.1"
  }
 },
 "nbformat": 4,
 "nbformat_minor": 5
}
